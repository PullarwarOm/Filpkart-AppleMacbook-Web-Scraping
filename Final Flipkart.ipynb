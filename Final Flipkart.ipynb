{
 "cells": [
  {
   "cell_type": "code",
   "execution_count": 1,
   "id": "5fd92e2a",
   "metadata": {},
   "outputs": [],
   "source": [
    "import pandas as pd\n",
    "import requests"
   ]
  },
  {
   "cell_type": "code",
   "execution_count": 2,
   "id": "4356c7d6",
   "metadata": {},
   "outputs": [],
   "source": [
    "from bs4 import BeautifulSoup\n",
    "from selenium import webdriver\n",
    "import os"
   ]
  },
  {
   "cell_type": "code",
   "execution_count": 3,
   "id": "cf590b01",
   "metadata": {},
   "outputs": [],
   "source": [
    "os.chdir('D:\\\\Scripting')"
   ]
  },
  {
   "cell_type": "code",
   "execution_count": 4,
   "id": "f13f93bc",
   "metadata": {},
   "outputs": [],
   "source": [
    "url = \"https://www.flipkart.com/laptops/pr?sid=6bo%2Cb5g&fm=neo%2Fmerchandising&iid=M_8b3b3f65-7ceb-4375-912c\u0002d2bcdde87c58_1_372UD5BXDFYS_MC.34WHNYFH5V2Y&otracker1=hp_rich_navigation_PINNED_neo%2Fmerchandising_NA_NAV_EXPANDABLE_navigationCard_cc_13_L1_view\u0002all&cid=34WHNYFH5V2Y&p%5B%5D=facets.brand%255B%255D%3DAPPLE&otracker=clp_metro_expandable_6_26.metroExpandable.METRO_EXPANDABLE_Apple_laptops\u0002store_SKIHMOPFPDC3_wp9&fm=neo%2Fmerchandising&iid=M_b4d0e2ef-aaac-4e7e\u00029272-9b8be53c2dc5_26.SKIHMOPFPDC3&ppt=clp&ppn=laptops\u0002store&ssid=j5fwd6niaz0hnchs1645514684273\""
   ]
  },
  {
   "cell_type": "code",
   "execution_count": 5,
   "id": "268deb43",
   "metadata": {},
   "outputs": [],
   "source": [
    "Browser = webdriver.Firefox()"
   ]
  },
  {
   "cell_type": "code",
   "execution_count": 6,
   "id": "8b14f320",
   "metadata": {},
   "outputs": [],
   "source": [
    "Browser.get(url)"
   ]
  },
  {
   "cell_type": "code",
   "execution_count": 7,
   "id": "2eaf210f",
   "metadata": {},
   "outputs": [],
   "source": [
    "content = Browser.page_source"
   ]
  },
  {
   "cell_type": "code",
   "execution_count": 8,
   "id": "91dc877b",
   "metadata": {},
   "outputs": [],
   "source": [
    "soup = BeautifulSoup(content, 'html.parser')"
   ]
  },
  {
   "cell_type": "code",
   "execution_count": 9,
   "id": "1c1e9d63",
   "metadata": {},
   "outputs": [
    {
     "data": {
      "text/plain": [
       "24"
      ]
     },
     "execution_count": 9,
     "metadata": {},
     "output_type": "execute_result"
    }
   ],
   "source": [
    "## Fetching name of product\n",
    "product_name = [i.text.strip() for i in soup.select('div._4rR01T')]\n",
    "len(product_name)"
   ]
  },
  {
   "cell_type": "code",
   "execution_count": 10,
   "id": "230975db",
   "metadata": {},
   "outputs": [
    {
     "data": {
      "text/plain": [
       "24"
      ]
     },
     "execution_count": 10,
     "metadata": {},
     "output_type": "execute_result"
    }
   ],
   "source": [
    "## Fetching price of product\n",
    "price = [i.text.strip() for i in soup.find_all('div', class_ = '_30jeq3 _1_WHN1')]\n",
    "len(price)"
   ]
  },
  {
   "cell_type": "code",
   "execution_count": 11,
   "id": "11f65d93",
   "metadata": {},
   "outputs": [
    {
     "data": {
      "text/plain": [
       "24"
      ]
     },
     "execution_count": 11,
     "metadata": {},
     "output_type": "execute_result"
    }
   ],
   "source": [
    "## Fetching rating out of five\n",
    "rating = [i.text for i in soup.find_all('div', class_ ='_3LWZlK')]\n",
    "len(rating)"
   ]
  },
  {
   "cell_type": "code",
   "execution_count": 12,
   "id": "5f1984f6",
   "metadata": {},
   "outputs": [
    {
     "data": {
      "text/plain": [
       "24"
      ]
     },
     "execution_count": 12,
     "metadata": {},
     "output_type": "execute_result"
    }
   ],
   "source": [
    "## Fetching total number of rating\n",
    "no_of_rating = [i.text.split()[0] for i in soup.find_all('span', class_ = '_2_R_DZ')]\n",
    "len(no_of_rating)"
   ]
  },
  {
   "cell_type": "code",
   "execution_count": 13,
   "id": "455b54da",
   "metadata": {},
   "outputs": [
    {
     "data": {
      "text/plain": [
       "24"
      ]
     },
     "execution_count": 13,
     "metadata": {},
     "output_type": "execute_result"
    }
   ],
   "source": [
    "## Fetching total number of reviews\n",
    "no_of_reviews = [i.text.split()[3] for i in soup.find_all('span', class_ = '_2_R_DZ')]\n",
    "len(no_of_reviews)"
   ]
  },
  {
   "cell_type": "code",
   "execution_count": 14,
   "id": "539613ba",
   "metadata": {},
   "outputs": [
    {
     "data": {
      "text/plain": [
       "24"
      ]
     },
     "execution_count": 14,
     "metadata": {},
     "output_type": "execute_result"
    }
   ],
   "source": [
    "## Fetching description of product\n",
    "Des = [[j.text for j in i] for i in [i.find_all('li') for i in soup.select('div.col.col-7-12')]]\n",
    "len(Des)"
   ]
  },
  {
   "cell_type": "code",
   "execution_count": 15,
   "id": "2f05748f",
   "metadata": {},
   "outputs": [],
   "source": [
    "df = pd.DataFrame({'Product Name': product_name, 'Price':price, 'Rating out of 5':rating, 'No_of_rating':no_of_rating, 'No_of_reviews': no_of_reviews, 'Description': Des })"
   ]
  },
  {
   "cell_type": "code",
   "execution_count": 16,
   "id": "5450e918",
   "metadata": {},
   "outputs": [],
   "source": [
    "df['Price'] = df['Price'].replace('[\\₹\\,]', '', regex = True).astype(int)"
   ]
  },
  {
   "cell_type": "code",
   "execution_count": 17,
   "id": "ecd7498b",
   "metadata": {},
   "outputs": [],
   "source": [
    "df['Rating out of 5'] = df['Rating out of 5'].astype('float')"
   ]
  },
  {
   "cell_type": "code",
   "execution_count": 18,
   "id": "63ba97cc",
   "metadata": {},
   "outputs": [],
   "source": [
    "df['No_of_rating'] = df['No_of_rating'].replace('[\\,]', '', regex = True).astype(int)"
   ]
  },
  {
   "cell_type": "code",
   "execution_count": 19,
   "id": "6291df3e",
   "metadata": {},
   "outputs": [],
   "source": [
    "df['No_of_reviews'] = df['No_of_reviews'].astype(int)"
   ]
  },
  {
   "cell_type": "code",
   "execution_count": 20,
   "id": "a8db7dc4",
   "metadata": {},
   "outputs": [],
   "source": [
    "df['Description'] = df['Description'].apply(lambda x: list(x))"
   ]
  },
  {
   "cell_type": "code",
   "execution_count": 21,
   "id": "26618cc0",
   "metadata": {},
   "outputs": [],
   "source": [
    "def flipkart_data(soup):\n",
    "    product_name = [i.text.strip() for i in soup.select('div._4rR01T')]\n",
    "    price = [i.text.strip() for i in soup.find_all('div', class_ = '_30jeq3 _1_WHN1')]\n",
    "    rating = [i.text.strip() for i in soup.find_all('div', class_ ='_3LWZlK')]\n",
    "    no_of_rating = [i.text.split()[0] for i in soup.find_all('span', class_ = '_2_R_DZ')]\n",
    "    no_of_reviews = [i.text.split()[3] for i in soup.find_all('span', class_ = '_2_R_DZ')]\n",
    "    t = [i.find_all('li') for i in soup.select('div.col.col-7-12')]\n",
    "    Des = [[j.text for j in i] for i in [i.find_all('li') for i in soup.select('div.col.col-7-12')]]\n",
    "    df = pd.DataFrame({'Product Name': product_name, 'Price':price, 'Rating out of 5':rating, 'No_of_rating':no_of_rating, 'No_of_reviews': no_of_reviews, 'Description': Des })\n",
    "    df['Price'] = df['Price'].replace('[\\₹\\,]', '', regex = True).astype(int)\n",
    "    df['Rating out of 5'] = df['Rating out of 5'].astype('float')\n",
    "    df['No_of_rating'] = df['No_of_rating'].replace('[\\,]', '', regex = True).astype(int)\n",
    "    df['No_of_reviews'] = df['No_of_reviews'].astype(int)\n",
    "    df['Description'] = df['Description'].apply(lambda x: list(x))\n",
    "    return(df)"
   ]
  },
  {
   "cell_type": "code",
   "execution_count": 22,
   "id": "8681b097",
   "metadata": {},
   "outputs": [
    {
     "data": {
      "text/plain": [
       "pandas.core.frame.DataFrame"
      ]
     },
     "execution_count": 22,
     "metadata": {},
     "output_type": "execute_result"
    }
   ],
   "source": [
    "type(flipkart_data(soup))"
   ]
  },
  {
   "cell_type": "code",
   "execution_count": 23,
   "id": "c68a1106",
   "metadata": {},
   "outputs": [],
   "source": [
    "stud = 'https://www.flipkart.com/laptops/pr?sid=6bo%2Cb5g&fm=neo%2Fmerchandising&iid=M_8b3b3f65-7ceb-4375-912c%02d2bcdde87c58_1_372UD5BXDFYS_MC.34WHNYFH5V2Y&otracker1=hp_rich_navigation_PINNED_neo%2Fmerchandising_NA_NAV_EXPANDABLE_navigationCard_cc_13_L1_view%02all&cid=34WHNYFH5V2Y&p[]=facets.brand%255B%255D%3DAPPLE&otracker=clp_metro_expandable_6_26.metroExpandable.METRO_EXPANDABLE_Apple_laptops%02store_SKIHMOPFPDC3_wp9&fm=neo%2Fmerchandising&iid=M_b4d0e2ef-aaac-4e7e%029272-9b8be53c2dc5_26.SKIHMOPFPDC3&ppt=clp&ppn=laptops%02store&ssid=j5fwd6niaz0hnchs1645514684273&page={}'"
   ]
  },
  {
   "cell_type": "code",
   "execution_count": 25,
   "id": "833004a6",
   "metadata": {},
   "outputs": [
    {
     "data": {
      "application/vnd.jupyter.widget-view+json": {
       "model_id": "6ca963d9c15742919ec8e938c0c19f92",
       "version_major": 2,
       "version_minor": 0
      },
      "text/plain": [
       "  0%|          | 0/2 [00:00<?, ?it/s]"
      ]
     },
     "metadata": {},
     "output_type": "display_data"
    }
   ],
   "source": [
    "tables = []\n",
    "from tqdm.notebook import tqdm\n",
    "import time\n",
    "for i in tqdm(range(1,3)):\n",
    "    url_pages = stud.format(i)\n",
    "    Browser.get(url_pages)\n",
    "    time.sleep(4)\n",
    "    content = Browser.page_source\n",
    "    soup2 = BeautifulSoup(content, 'html.parser')\n",
    "    tables.append(flipkart_data(soup2))"
   ]
  },
  {
   "cell_type": "code",
   "execution_count": 26,
   "id": "6c4a1375",
   "metadata": {},
   "outputs": [],
   "source": [
    "flipkart = pd.concat(tables, axis = 0, ignore_index = True)"
   ]
  },
  {
   "cell_type": "code",
   "execution_count": 27,
   "id": "ee1f8bf1",
   "metadata": {},
   "outputs": [
    {
     "data": {
      "text/html": [
       "<div>\n",
       "<style scoped>\n",
       "    .dataframe tbody tr th:only-of-type {\n",
       "        vertical-align: middle;\n",
       "    }\n",
       "\n",
       "    .dataframe tbody tr th {\n",
       "        vertical-align: top;\n",
       "    }\n",
       "\n",
       "    .dataframe thead th {\n",
       "        text-align: right;\n",
       "    }\n",
       "</style>\n",
       "<table border=\"1\" class=\"dataframe\">\n",
       "  <thead>\n",
       "    <tr style=\"text-align: right;\">\n",
       "      <th></th>\n",
       "      <th>Product Name</th>\n",
       "      <th>Price</th>\n",
       "      <th>Rating out of 5</th>\n",
       "      <th>No_of_rating</th>\n",
       "      <th>No_of_reviews</th>\n",
       "      <th>Description</th>\n",
       "    </tr>\n",
       "  </thead>\n",
       "  <tbody>\n",
       "    <tr>\n",
       "      <th>0</th>\n",
       "      <td>APPLE 2020 Macbook Air M1 - (8 GB/256 GB SSD/M...</td>\n",
       "      <td>84940</td>\n",
       "      <td>4.7</td>\n",
       "      <td>6472</td>\n",
       "      <td>613</td>\n",
       "      <td>[Apple M1 Processor, 8 GB DDR4 RAM, Mac OS Ope...</td>\n",
       "    </tr>\n",
       "    <tr>\n",
       "      <th>1</th>\n",
       "      <td>APPLE 2020 Macbook Air M1 - (8 GB/256 GB SSD/M...</td>\n",
       "      <td>84940</td>\n",
       "      <td>4.7</td>\n",
       "      <td>6472</td>\n",
       "      <td>613</td>\n",
       "      <td>[Apple M1 Processor, 8 GB DDR4 RAM, Mac OS Ope...</td>\n",
       "    </tr>\n",
       "    <tr>\n",
       "      <th>2</th>\n",
       "      <td>APPLE 2020 Macbook Air M1 - (8 GB/256 GB SSD/M...</td>\n",
       "      <td>84940</td>\n",
       "      <td>4.7</td>\n",
       "      <td>6472</td>\n",
       "      <td>613</td>\n",
       "      <td>[Apple M1 Processor, 8 GB DDR4 RAM, Mac OS Ope...</td>\n",
       "    </tr>\n",
       "    <tr>\n",
       "      <th>3</th>\n",
       "      <td>APPLE 2020 Macbook Air M1 - (8 GB/512 GB SSD/M...</td>\n",
       "      <td>105940</td>\n",
       "      <td>4.7</td>\n",
       "      <td>759</td>\n",
       "      <td>91</td>\n",
       "      <td>[Apple M1 Processor, 8 GB DDR4 RAM, Mac OS Ope...</td>\n",
       "    </tr>\n",
       "    <tr>\n",
       "      <th>4</th>\n",
       "      <td>APPLE MacBook Air M1 - (16 GB/256 GB SSD/Mac O...</td>\n",
       "      <td>105940</td>\n",
       "      <td>4.5</td>\n",
       "      <td>13</td>\n",
       "      <td>0</td>\n",
       "      <td>[Apple M1 Processor, 16 GB DDR4 RAM, Mac OS Op...</td>\n",
       "    </tr>\n",
       "    <tr>\n",
       "      <th>5</th>\n",
       "      <td>APPLE 2021 Macbook Pro M1 Pro - (16 GB/1 TB SS...</td>\n",
       "      <td>219940</td>\n",
       "      <td>4.8</td>\n",
       "      <td>33</td>\n",
       "      <td>8</td>\n",
       "      <td>[Apple M1 Pro Processor, 16 GB Unified Memory ...</td>\n",
       "    </tr>\n",
       "    <tr>\n",
       "      <th>6</th>\n",
       "      <td>APPLE MacBook Air M1 - (16 GB/512 GB SSD/Mac O...</td>\n",
       "      <td>119940</td>\n",
       "      <td>4.5</td>\n",
       "      <td>13</td>\n",
       "      <td>0</td>\n",
       "      <td>[Apple M1 Processor, 16 GB DDR4 RAM, Mac OS Op...</td>\n",
       "    </tr>\n",
       "    <tr>\n",
       "      <th>7</th>\n",
       "      <td>APPLE MacBook Air M1 - (16 GB/512 GB SSD/Mac O...</td>\n",
       "      <td>127940</td>\n",
       "      <td>4.5</td>\n",
       "      <td>13</td>\n",
       "      <td>0</td>\n",
       "      <td>[Apple M1 Processor, 16 GB DDR4 RAM, Mac OS Op...</td>\n",
       "    </tr>\n",
       "    <tr>\n",
       "      <th>8</th>\n",
       "      <td>APPLE MacBook Air M1 - (16 GB/256 GB SSD/Mac O...</td>\n",
       "      <td>105940</td>\n",
       "      <td>4.5</td>\n",
       "      <td>13</td>\n",
       "      <td>0</td>\n",
       "      <td>[Apple M1 Processor, 16 GB DDR4 RAM, Mac OS Op...</td>\n",
       "    </tr>\n",
       "    <tr>\n",
       "      <th>9</th>\n",
       "      <td>APPLE 2020 Macbook Pro M1 - (8 GB/256 GB SSD/M...</td>\n",
       "      <td>110940</td>\n",
       "      <td>4.7</td>\n",
       "      <td>625</td>\n",
       "      <td>68</td>\n",
       "      <td>[Apple M1 Processor, 8 GB DDR4 RAM, Mac OS Ope...</td>\n",
       "    </tr>\n",
       "    <tr>\n",
       "      <th>10</th>\n",
       "      <td>APPLE 2020 Macbook Air M1 - (8 GB/512 GB SSD/M...</td>\n",
       "      <td>105940</td>\n",
       "      <td>4.7</td>\n",
       "      <td>759</td>\n",
       "      <td>91</td>\n",
       "      <td>[Apple M1 Processor, 8 GB DDR4 RAM, Mac OS Ope...</td>\n",
       "    </tr>\n",
       "    <tr>\n",
       "      <th>11</th>\n",
       "      <td>APPLE MacBook Air M1 - (16 GB/512 GB SSD/Mac O...</td>\n",
       "      <td>127940</td>\n",
       "      <td>4.5</td>\n",
       "      <td>13</td>\n",
       "      <td>0</td>\n",
       "      <td>[Apple M1 Processor, 16 GB DDR4 RAM, Mac OS Op...</td>\n",
       "    </tr>\n",
       "    <tr>\n",
       "      <th>12</th>\n",
       "      <td>APPLE 2020 Macbook Pro M1 - (8 GB/512 GB SSD/M...</td>\n",
       "      <td>129940</td>\n",
       "      <td>4.6</td>\n",
       "      <td>390</td>\n",
       "      <td>45</td>\n",
       "      <td>[Apple M1 Processor, 8 GB DDR4 RAM, Mac OS Ope...</td>\n",
       "    </tr>\n",
       "    <tr>\n",
       "      <th>13</th>\n",
       "      <td>APPLE 2020 Macbook Pro M1 - (8 GB/256 GB SSD/M...</td>\n",
       "      <td>110940</td>\n",
       "      <td>4.7</td>\n",
       "      <td>625</td>\n",
       "      <td>68</td>\n",
       "      <td>[Apple M1 Processor, 8 GB DDR4 RAM, Mac OS Ope...</td>\n",
       "    </tr>\n",
       "    <tr>\n",
       "      <th>14</th>\n",
       "      <td>APPLE 2020 Macbook Pro M1 - (8 GB/512 GB SSD/M...</td>\n",
       "      <td>129940</td>\n",
       "      <td>4.6</td>\n",
       "      <td>390</td>\n",
       "      <td>45</td>\n",
       "      <td>[Apple M1 Processor, 8 GB DDR4 RAM, Mac OS Ope...</td>\n",
       "    </tr>\n",
       "    <tr>\n",
       "      <th>15</th>\n",
       "      <td>APPLE MacBook Pro with Touch Bar Core i5 10th ...</td>\n",
       "      <td>159940</td>\n",
       "      <td>4.4</td>\n",
       "      <td>32</td>\n",
       "      <td>5</td>\n",
       "      <td>[Intel Core i5 Processor (10th Gen), 16 GB LPD...</td>\n",
       "    </tr>\n",
       "    <tr>\n",
       "      <th>16</th>\n",
       "      <td>APPLE MacBook Pro with Touch Bar Core i5 10th ...</td>\n",
       "      <td>176940</td>\n",
       "      <td>4.8</td>\n",
       "      <td>91</td>\n",
       "      <td>5</td>\n",
       "      <td>[Intel Core i5 Processor (10th Gen), 16 GB LPD...</td>\n",
       "    </tr>\n",
       "    <tr>\n",
       "      <th>17</th>\n",
       "      <td>APPLE MacBook Pro with Touch Bar Core i5 10th ...</td>\n",
       "      <td>176940</td>\n",
       "      <td>4.7</td>\n",
       "      <td>31</td>\n",
       "      <td>3</td>\n",
       "      <td>[Intel Core i5 Processor (10th Gen), 16 GB LPD...</td>\n",
       "    </tr>\n",
       "    <tr>\n",
       "      <th>18</th>\n",
       "      <td>APPLE MacBook Pro Core i5 8th Gen - (8 GB/512 ...</td>\n",
       "      <td>172040</td>\n",
       "      <td>4.2</td>\n",
       "      <td>108</td>\n",
       "      <td>13</td>\n",
       "      <td>[Intel Core i5 Processor (8th Gen), 8 GB DDR3 ...</td>\n",
       "    </tr>\n",
       "    <tr>\n",
       "      <th>19</th>\n",
       "      <td>APPLE 2021 Macbook Pro M1 Pro - (16 GB/1 TB SS...</td>\n",
       "      <td>219940</td>\n",
       "      <td>4.8</td>\n",
       "      <td>33</td>\n",
       "      <td>8</td>\n",
       "      <td>[Apple M1 Pro Processor, 16 GB Unified Memory ...</td>\n",
       "    </tr>\n",
       "    <tr>\n",
       "      <th>20</th>\n",
       "      <td>APPLE MacBook Air Core i5 10th Gen - (8 GB/512...</td>\n",
       "      <td>106140</td>\n",
       "      <td>4.5</td>\n",
       "      <td>435</td>\n",
       "      <td>40</td>\n",
       "      <td>[Intel Core i5 Processor (10th Gen), 8 GB LPDD...</td>\n",
       "    </tr>\n",
       "    <tr>\n",
       "      <th>21</th>\n",
       "      <td>APPLE 2021 Macbook Pro M1 Pro - (16 GB/512 GB ...</td>\n",
       "      <td>179940</td>\n",
       "      <td>4.8</td>\n",
       "      <td>33</td>\n",
       "      <td>8</td>\n",
       "      <td>[Apple M1 Pro Processor, 16 GB Unified Memory ...</td>\n",
       "    </tr>\n",
       "    <tr>\n",
       "      <th>22</th>\n",
       "      <td>APPLE 2021 Macbook Pro M1 Pro - (16 GB/1 TB SS...</td>\n",
       "      <td>239940</td>\n",
       "      <td>4.8</td>\n",
       "      <td>33</td>\n",
       "      <td>8</td>\n",
       "      <td>[Apple M1 Pro Processor, 16 GB Unified Memory ...</td>\n",
       "    </tr>\n",
       "    <tr>\n",
       "      <th>23</th>\n",
       "      <td>APPLE 2021 Macbook Pro M1 Pro - (16 GB/512 GB ...</td>\n",
       "      <td>219940</td>\n",
       "      <td>4.8</td>\n",
       "      <td>33</td>\n",
       "      <td>8</td>\n",
       "      <td>[Apple M1 Pro Processor, 16 GB Unified Memory ...</td>\n",
       "    </tr>\n",
       "    <tr>\n",
       "      <th>24</th>\n",
       "      <td>APPLE MacBook Air M1 - (16 GB/512 GB SSD/Mac O...</td>\n",
       "      <td>119940</td>\n",
       "      <td>4.5</td>\n",
       "      <td>13</td>\n",
       "      <td>0</td>\n",
       "      <td>[Apple M1 Processor, 16 GB DDR4 RAM, Mac OS Op...</td>\n",
       "    </tr>\n",
       "  </tbody>\n",
       "</table>\n",
       "</div>"
      ],
      "text/plain": [
       "                                         Product Name   Price  \\\n",
       "0   APPLE 2020 Macbook Air M1 - (8 GB/256 GB SSD/M...   84940   \n",
       "1   APPLE 2020 Macbook Air M1 - (8 GB/256 GB SSD/M...   84940   \n",
       "2   APPLE 2020 Macbook Air M1 - (8 GB/256 GB SSD/M...   84940   \n",
       "3   APPLE 2020 Macbook Air M1 - (8 GB/512 GB SSD/M...  105940   \n",
       "4   APPLE MacBook Air M1 - (16 GB/256 GB SSD/Mac O...  105940   \n",
       "5   APPLE 2021 Macbook Pro M1 Pro - (16 GB/1 TB SS...  219940   \n",
       "6   APPLE MacBook Air M1 - (16 GB/512 GB SSD/Mac O...  119940   \n",
       "7   APPLE MacBook Air M1 - (16 GB/512 GB SSD/Mac O...  127940   \n",
       "8   APPLE MacBook Air M1 - (16 GB/256 GB SSD/Mac O...  105940   \n",
       "9   APPLE 2020 Macbook Pro M1 - (8 GB/256 GB SSD/M...  110940   \n",
       "10  APPLE 2020 Macbook Air M1 - (8 GB/512 GB SSD/M...  105940   \n",
       "11  APPLE MacBook Air M1 - (16 GB/512 GB SSD/Mac O...  127940   \n",
       "12  APPLE 2020 Macbook Pro M1 - (8 GB/512 GB SSD/M...  129940   \n",
       "13  APPLE 2020 Macbook Pro M1 - (8 GB/256 GB SSD/M...  110940   \n",
       "14  APPLE 2020 Macbook Pro M1 - (8 GB/512 GB SSD/M...  129940   \n",
       "15  APPLE MacBook Pro with Touch Bar Core i5 10th ...  159940   \n",
       "16  APPLE MacBook Pro with Touch Bar Core i5 10th ...  176940   \n",
       "17  APPLE MacBook Pro with Touch Bar Core i5 10th ...  176940   \n",
       "18  APPLE MacBook Pro Core i5 8th Gen - (8 GB/512 ...  172040   \n",
       "19  APPLE 2021 Macbook Pro M1 Pro - (16 GB/1 TB SS...  219940   \n",
       "20  APPLE MacBook Air Core i5 10th Gen - (8 GB/512...  106140   \n",
       "21  APPLE 2021 Macbook Pro M1 Pro - (16 GB/512 GB ...  179940   \n",
       "22  APPLE 2021 Macbook Pro M1 Pro - (16 GB/1 TB SS...  239940   \n",
       "23  APPLE 2021 Macbook Pro M1 Pro - (16 GB/512 GB ...  219940   \n",
       "24  APPLE MacBook Air M1 - (16 GB/512 GB SSD/Mac O...  119940   \n",
       "\n",
       "    Rating out of 5  No_of_rating  No_of_reviews  \\\n",
       "0               4.7          6472            613   \n",
       "1               4.7          6472            613   \n",
       "2               4.7          6472            613   \n",
       "3               4.7           759             91   \n",
       "4               4.5            13              0   \n",
       "5               4.8            33              8   \n",
       "6               4.5            13              0   \n",
       "7               4.5            13              0   \n",
       "8               4.5            13              0   \n",
       "9               4.7           625             68   \n",
       "10              4.7           759             91   \n",
       "11              4.5            13              0   \n",
       "12              4.6           390             45   \n",
       "13              4.7           625             68   \n",
       "14              4.6           390             45   \n",
       "15              4.4            32              5   \n",
       "16              4.8            91              5   \n",
       "17              4.7            31              3   \n",
       "18              4.2           108             13   \n",
       "19              4.8            33              8   \n",
       "20              4.5           435             40   \n",
       "21              4.8            33              8   \n",
       "22              4.8            33              8   \n",
       "23              4.8            33              8   \n",
       "24              4.5            13              0   \n",
       "\n",
       "                                          Description  \n",
       "0   [Apple M1 Processor, 8 GB DDR4 RAM, Mac OS Ope...  \n",
       "1   [Apple M1 Processor, 8 GB DDR4 RAM, Mac OS Ope...  \n",
       "2   [Apple M1 Processor, 8 GB DDR4 RAM, Mac OS Ope...  \n",
       "3   [Apple M1 Processor, 8 GB DDR4 RAM, Mac OS Ope...  \n",
       "4   [Apple M1 Processor, 16 GB DDR4 RAM, Mac OS Op...  \n",
       "5   [Apple M1 Pro Processor, 16 GB Unified Memory ...  \n",
       "6   [Apple M1 Processor, 16 GB DDR4 RAM, Mac OS Op...  \n",
       "7   [Apple M1 Processor, 16 GB DDR4 RAM, Mac OS Op...  \n",
       "8   [Apple M1 Processor, 16 GB DDR4 RAM, Mac OS Op...  \n",
       "9   [Apple M1 Processor, 8 GB DDR4 RAM, Mac OS Ope...  \n",
       "10  [Apple M1 Processor, 8 GB DDR4 RAM, Mac OS Ope...  \n",
       "11  [Apple M1 Processor, 16 GB DDR4 RAM, Mac OS Op...  \n",
       "12  [Apple M1 Processor, 8 GB DDR4 RAM, Mac OS Ope...  \n",
       "13  [Apple M1 Processor, 8 GB DDR4 RAM, Mac OS Ope...  \n",
       "14  [Apple M1 Processor, 8 GB DDR4 RAM, Mac OS Ope...  \n",
       "15  [Intel Core i5 Processor (10th Gen), 16 GB LPD...  \n",
       "16  [Intel Core i5 Processor (10th Gen), 16 GB LPD...  \n",
       "17  [Intel Core i5 Processor (10th Gen), 16 GB LPD...  \n",
       "18  [Intel Core i5 Processor (8th Gen), 8 GB DDR3 ...  \n",
       "19  [Apple M1 Pro Processor, 16 GB Unified Memory ...  \n",
       "20  [Intel Core i5 Processor (10th Gen), 8 GB LPDD...  \n",
       "21  [Apple M1 Pro Processor, 16 GB Unified Memory ...  \n",
       "22  [Apple M1 Pro Processor, 16 GB Unified Memory ...  \n",
       "23  [Apple M1 Pro Processor, 16 GB Unified Memory ...  \n",
       "24  [Apple M1 Processor, 16 GB DDR4 RAM, Mac OS Op...  "
      ]
     },
     "execution_count": 27,
     "metadata": {},
     "output_type": "execute_result"
    }
   ],
   "source": [
    "flipkart"
   ]
  },
  {
   "cell_type": "code",
   "execution_count": 28,
   "id": "3067155b",
   "metadata": {},
   "outputs": [],
   "source": [
    "flipkart.to_csv(r'C:\\Users\\Admin\\Desktop\\Assignment\\Data Scraping\\Assignmetn solution\\Question 2 Fliprat/Flipkart Apple Macbook Data.csv', index = False)"
   ]
  }
 ],
 "metadata": {
  "kernelspec": {
   "display_name": "Python 3",
   "language": "python",
   "name": "python3"
  },
  "language_info": {
   "codemirror_mode": {
    "name": "ipython",
    "version": 3
   },
   "file_extension": ".py",
   "mimetype": "text/x-python",
   "name": "python",
   "nbconvert_exporter": "python",
   "pygments_lexer": "ipython3",
   "version": "3.8.8"
  }
 },
 "nbformat": 4,
 "nbformat_minor": 5
}
